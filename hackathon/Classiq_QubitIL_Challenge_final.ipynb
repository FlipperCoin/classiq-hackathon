{
 "cells": [
  {
   "cell_type": "markdown",
   "id": "58b8005b-5e7e-46dd-b3ec-e635eeb392cc",
   "metadata": {},
   "source": [
    "# QubitIL 2024 Hackathon Challenge by Classiq: \n",
    "# Developing an Advanced Quantum Algorithm: Approximating a Non-Linear Function"
   ]
  },
  {
   "cell_type": "markdown",
   "id": "51cbdf65-3718-4ddb-a40d-2b25efe5287f",
   "metadata": {},
   "source": [
    "Welcome to the Classiq challenge at the 2024 QubitIL Hackathon!\n",
    "\n",
    "This Jupyter notebook provides the framework for the challenge. Follow the steps and guidelines outlined in it to complete the challenge successfully. \n",
    "\n",
    "Good luck!\n",
    "\n"
   ]
  },
  {
   "cell_type": "markdown",
   "id": "3bd1b1d1-55f3-4bb3-b0bc-c2e82e84fc13",
   "metadata": {},
   "source": [
    "The notebook consists of three parts:\n",
    "\n",
    "1. The challenge, including what you need to create and submit, along with comprehensive guidelines and hints.\n",
    "\n",
    "2. Instructions for evaluating your solutions to the challenge.\n",
    "\n",
    "3. An optional hands-on preparation exercise to explore Classiq’s capabilities and gain initial ideas for approaching the challenge.\n",
    "\n"
   ]
  },
  {
   "cell_type": "markdown",
   "id": "07de83a2-af0b-4cb6-b8f7-8245b259c4e6",
   "metadata": {},
   "source": [
    "Additional resources available to you include:\n",
    "- The IDE of the classiq platform at [platform.classiq.io](https://platform.classiq.io/)\n",
    "- [Classiq's documentation](https://docs.classiq.io/latest/) with the dedicated [Classiq 101](https://docs.classiq.io/latest/classiq_101/)\n",
    "- Our [GitHub Repostory](https://github.com/Classiq/classiq-library)\n",
    "- The [community Slack of Classiq](https://short.classiq.io/join-slack) - where you can search for answers to previously asked questions and ask your own\n"
   ]
  },
  {
   "cell_type": "markdown",
   "id": "870a61f0-debe-4637-835d-7ef54428a1d2",
   "metadata": {},
   "source": [
    "## Introduction:"
   ]
  },
  {
   "cell_type": "markdown",
   "id": "22aca859-d3c3-4612-b0aa-7ac2966a6edb",
   "metadata": {},
   "source": [
    "The world we live in is inherently non-linear, and numerous industries conduct extensive research leveraging non-linear functions to solve complex problems and drive innovation. In the automotive sector, computational fluid dynamics is used to optimize vehicle efficiency and performance, while in the financial sector, non-linear payoff functions play a cardinal role in modeling and analyzing stock and derivative behaviors.\n",
    "\n",
    "As a result, non-linear functions such as trigonometric, hyperbolic, and fractional powers are indispensable in classical algorithm design. These complex arithmetic functions are often approximated using fundamental arithmetic operations like addition, subtraction, and multiplication applied to polynomial terms.\n",
    "\n",
    "Non-linear arithmetic functions also play a pivotal role in fault-tolerant quantum algorithms. For instance, the HHL algorithm incorporates an eigenvalue inversion block that relies on the $arcsin(1/x)$ function. The hyperbolic tangent $tanh(x)$ is utilized in applications like Gibbs state preparation in statistical mechanics. Similarly, the sine function $sin(x)$ frequently arises in wave equation solutions and appears in Hamiltonians of quantum systems with periodic potentials, which are instrumental for modeling conduction in metals. Furthermore, these functions can also serve as activation functions in quantum machine learning.\n",
    "\n",
    "Even on today’s NISQ devices, implementing generalized arithmetic functions proves valuable for benchmarking and exploring near-term algorithms. However, designing these functions for quantum systems is particularly challenging due to the difficulty of approximating non-linear functions on quantum computers, which inherently rely on linear operations. These implementations often necessitate the use of multiple auxiliary registers to enable out-of-place operations and ensure the accurate approximation of the desired functionality.\n",
    "\n",
    "Luckily, the Classiq platform allows you to focus on high-level algorithm design while the platform handles the complexities of optimization and implementation, simplifying the design of efficient quantum arithmetic algorithms and advanced quantum algorithms in general!"
   ]
  },
  {
   "cell_type": "markdown",
   "id": "a5794da4-7cb9-4368-ada5-c9d49426720c",
   "metadata": {},
   "source": [
    "## The Challenge:\n",
    "Your challenge is to design a quantum algorithm that accurately approximates $sin(x)$ over the domain $f(x):[0,1)\\rightarrow[0,1)$. \n",
    "\n",
    "The goal is to achieve maximum accuracy while optimizing for efficiency and minimizing circuit depth, adhering to the constraints of a quantum computer with up to $127$ qubits and a maximum allowable circuit depth of $30,000$. You may assume a logical quantum computer, where errors and error mitigation or correction are not considered."
   ]
  },
  {
   "cell_type": "markdown",
   "id": "8736e31f-a2ed-4ba4-80f7-23d6632549b2",
   "metadata": {},
   "source": [
    "Your challenge is to design a quantum algorithm that accurately approximates $sin(x)$ over the domain $f(x):[0,1)\\rightarrow[0,1)$. \n",
    "\n",
    "The goal is to achieve maximum accuracy while optimizing for efficiency and minimizing circuit depth, adhering to the constraints of a quantum computer with up to $127$ qubits and a maximum allowable circuit depth of $30,000$. You may assume a logical quantum computer, where errors and error mitigation or correction are not considered."
   ]
  },
  {
   "cell_type": "markdown",
   "id": "802bf026-cce6-4b38-8a79-b636ef20015b",
   "metadata": {},
   "source": [
    "When designing an algorithm to tackle a complex problem, it is advisable to adopt a parametric, scalable approach that allows for initial testing on a smaller version of the problem to ensure correctness and feasibility before scaling it up to address the full-scale problem.\n",
    "\n",
    "The challenge consists of two stages:\n",
    "\n",
    "1. In the first part of the challenge, you are tasked with testing your designed algorithm using up to 25 qubits and a maximum circuit depth of 2,000. Once the circuit is synthesized, execute it on the Azure IonQ simulator. To assess the accuracy of your algorithm's approximation, the execution results can be evaluated against classically computed values of $sin(x)$ utilizing the `evaluate_score_prec` test function provided in the \"Evaluating Your Code\" section.\n",
    "\n",
    "2. In the second and final step, scale your algorithm to achieve the highest possible precision while maintaining the smallest circuit depth, using up to 127 qubits and a maximum depth of 30,000. \n",
    "\n",
    "Your code must be designed in a parametric manner, with precision passed as an adjustable parameter (refer to the algorithm-building guidelines in \"The Heart of the Code - Build Your Algorithm Here\" section). The solution will be evaluated based on the maximum accuracy achieved, as measured by the `evaluate_score_prec` test function, while also taking into account the efficiency, specifically the depth of the synthesized circuit. Additionally, the elegance and originality of the solution may be factored into the assessment of submissions.\n",
    "\n"
   ]
  },
  {
   "cell_type": "markdown",
   "id": "ac628951-84a3-43ee-a757-87665b60b94f",
   "metadata": {},
   "source": [
    "To address this challenge, you are required to construct an algorithm that performs the following operation:\n",
    "$$\n",
    "|x\\rangle_n\\rightarrow|x\\rangle_n|sin(x)\\rangle_m\n",
    "$$\n",
    "The precision of your input states ($|x\\rangle$), which corresponds to the number of fractional digits they represent, is determined by the number of qubits $n$, and can be implemented using the `allocate_num` built-in function demonstrated in the first part of the optional exercise. The precision of the $|sin(x)\\rangle$ states $m$ can be anything you want and might depend on the precision of the input states $n$.\n"
   ]
  },
  {
   "cell_type": "markdown",
   "id": "2423f796-99ca-4aec-b41c-f790beb1e3cb",
   "metadata": {},
   "source": [
    "### What You Need to Submit:"
   ]
  },
  {
   "cell_type": "markdown",
   "id": "891bcf5d-cb94-4d13-b3f2-6242bf68cfe2",
   "metadata": {},
   "source": [
    "The following files should be uploaded to [this Google form](https://fvrn0h72gwo.typeform.com/to/s8qsXJKj) (detailed instructions are provided in the link):\n",
    "\n",
    "1. This Jupyter notebook, containing your solution and precision values for both stages entered in the \"The Heart of the Code - Build Your Algorithm Here\" section, along with a comprehensive explanation of your solution.\n",
    "\n",
    "2. The maximal distance value produced by the `evaluate_score_prec` test function for the first stage.\n",
    "\n",
    "3. The quantum program for each stage as a .qprog file, incorporating the constraints and preferences specified for each stage.\n",
    "\n",
    "The quantum program can be extracted and saved using the following code after synthesizing your algorithm and assigning it to `quantum_program`. Make sure that the `program_name` is changed to correspond to the relevant stage:\n",
    "\n"
   ]
  },
  {
   "cell_type": "code",
   "execution_count": 32,
   "id": "0df83e51-160a-4980-b986-aa4b174c9f7d",
   "metadata": {},
   "outputs": [
    {
     "name": "stdout",
     "output_type": "stream",
     "text": [
      "Quantum program saved successfully to stage2.qprog\n"
     ]
    }
   ],
   "source": [
    "def save_q_prog(program, file_name=\"program_name.qprog\"):  #TODO change `program_name` to your desired name for every stage\n",
    "    \"\"\"\n",
    "    Saves a quantum program to a .qprog file.\n",
    "\n",
    "    Args:\n",
    "        program: The quantum program to be saved (already prepared or synthesized).\n",
    "        file_name: The name of the .qprog file. Defaults to \"program_name.qprog\".\n",
    "                   Update this for each stage.\n",
    "\n",
    "    Returns:\n",
    "        None. Writes the quantum program to the specified file and prints a success or error message.\n",
    "    \"\"\"\n",
    "    try:\n",
    "        qprog = program\n",
    "\n",
    "        with open(file_name, \"w\") as file:\n",
    "            file.write(qprog)\n",
    "\n",
    "        print(f\"Quantum program saved successfully to {file_name}\")\n",
    "    except Exception as e:\n",
    "        print(f\"An error occurred while saving the quantum program: {e}\")\n",
    "        \n",
    "save_q_prog(quantum_program,\"stage2.qprog\")"
   ]
  },
  {
   "cell_type": "markdown",
   "id": "360d299b-7e3a-4911-b1f9-a417f00bb862",
   "metadata": {},
   "source": [
    "### First Steps for Developing your Algorithm:"
   ]
  },
  {
   "cell_type": "markdown",
   "id": "55ff93aa-d6e4-40c6-ada2-0f281dc7335e",
   "metadata": {
    "jp-MarkdownHeadingCollapsed": true
   },
   "source": [
    "\n",
    "1. After reviewing the challenge description and submission requirements, you can explore the optional preparation exercise section at the bottom of this notebook to gather ideas and inspiration for constructing your algorithm.\n",
    "\n",
    "\n",
    "2. Next, go over the \"The Heart of the Code - Build Your Algorithm Here\" section to section to gain an understanding of the required format and structure for designing your algorithm.\n",
    "\n",
    "   \n",
    "3. Before starting to work on your algorithm, it is recommended to read the following paragraph for helpful tips and hints.\n"
   ]
  },
  {
   "cell_type": "markdown",
   "id": "42973351-27a3-4c57-a4e0-30beb330c389",
   "metadata": {},
   "source": [
    "### Tips and Hints:"
   ]
  },
  {
   "cell_type": "markdown",
   "id": "1c30a95f-97fb-4f74-9329-fc078cbb0e2b",
   "metadata": {},
   "source": [
    "There are various mathematical methods for approximating complex functions. One approach involves using the Taylor series of the function (if it exists) and truncating it at a certain level. \n",
    "\n",
    "Another method involves dividing the function's domain into small segments and approximating the function within each segment using a polynomial of a certain degree. The choice of the polynomial degree (linear, quadratic etc.) depends on the size of the segments selected and directly impacts the accuracy of the approximation.\n",
    "\n",
    "When approaching this challenge, a good starting point is to select the underlying approximation method you want to implement and consider how to utilize quantum properties to design an efficient quantum algorithm. Referring to the optional preparation exercise at the end of this notebook is recommended, as it offers valuable insights into implementing approximations on quantum computers using the Classiq high-level functional design paradigm.\n",
    "\n",
    "\n"
   ]
  },
  {
   "cell_type": "markdown",
   "id": "225f5fdc-34d3-4bc5-8eaa-0ea59a571476",
   "metadata": {},
   "source": [
    "## The Heart of the Code - Build Your Algorithm Here:"
   ]
  },
  {
   "cell_type": "markdown",
   "id": "2802a0e1-0ef3-4b39-9445-40a66c9c5183",
   "metadata": {},
   "source": [
    "All the following imports must be included before the main part of the code:"
   ]
  },
  {
   "cell_type": "code",
   "execution_count": 2,
   "id": "2a1e418e-ffaa-45c0-bb54-01544c833ecc",
   "metadata": {},
   "outputs": [],
   "source": [
    "from classiq import *\n",
    "\n",
    "from classiq.execution import (ClassiqBackendPreferences,ExecutionPreferences,AzureCredential,AzureBackendPreferences)\n",
    "\n",
    "import numpy as np\n",
    "import json"
   ]
  },
  {
   "cell_type": "markdown",
   "id": "ecf4079a-7343-45ad-8273-02a204a622ce",
   "metadata": {},
   "source": [
    "\n",
    "The following function `compute_sin` needs to appear in your code. You can add further variables to the function. Make sure to also take them into account when you call the function. \n",
    "\n",
    "Note: do not rename or remove the existing variables `x` and `sin_x`.\n"
   ]
  },
  {
   "cell_type": "code",
   "execution_count": 22,
   "id": "b90c1f5b-eaad-421c-b6cf-61fc262fc620",
   "metadata": {},
   "outputs": [],
   "source": [
    "@qfunc\n",
    "def control_logic(a: CArray[int], b: CArray[int], controller: QNum, x: QNum, y: QNum):\n",
    "    repeat(a.len,         \n",
    "            iteration=lambda i: control(controller==i, lambda: inplace_xor(a[i]*x+b[i],y)))\n",
    "    \n",
    "# The heart of the code - the function that calculates sin(x)\n",
    "@qfunc\n",
    "def compute_sin(x: QNum,                   # Do not change this declaration\n",
    "                 sin_x: Output[QNum],     # Do not change this declaration\n",
    "                 precision: CInt,    #You can delete this declaration if you do not use it, and add further declarations\n",
    "               ):\n",
    "    \n",
    "    sections = 2\n",
    "    ctrl = QNum(\"ctrl\")\n",
    "    allocate_num(num_qubits=np.log2(sections),is_signed=False,fraction_digits=0,out=ctrl)\n",
    "    allocate_num(num_qubits=4,is_signed=False,fraction_digits=4,out=sin_x)\n",
    "    inplace_xor(x / (2**4 / sections), ctrl)\n",
    "\n",
    "    a = [0.959, 0.724]\n",
    "    b = [0.0, 0.117]\n",
    "\n",
    "    control_logic(a,b,ctrl,x,sin_x)"
   ]
  },
  {
   "cell_type": "markdown",
   "id": "5fa2c568-86e1-4a03-b8b7-8f8c215c8295",
   "metadata": {},
   "source": [
    "For stage 1, the main function should be of the following form and include the additional synthesis constraints and execution preferences for running the quantum program on the Azure IonQ simulator without any issues.\n",
    "\n",
    "Note: the precision must be provided as a parameter named `precision_stage_#` while replacing the # with the relevant stage number. \n"
   ]
  },
  {
   "cell_type": "code",
   "execution_count": null,
   "id": "25c30918-0795-4d1b-a70f-00b2e50b86f1",
   "metadata": {},
   "outputs": [],
   "source": [
    "precision_stage_1 = 4 #give your maximal precision parameter value\n",
    "\n",
    "@qfunc\n",
    "def main(x: Output[QNum],sin_x: Output[QNum]):\n",
    "\n",
    "    # A quantum variable which represents fractional numbers is initialized\n",
    "    allocate_num(num_qubits=precision_stage_1,      \n",
    "                is_signed=False,            \n",
    "                fraction_digits=precision_stage_1,\n",
    "                out=x)\n",
    "    \n",
    "    # creating a uniform superposition of all possible values of the quantum number by using a hadamard transform\n",
    "    hadamard_transform(x)\n",
    "\n",
    "    # The central function for computing the approximation of sin(x) in the specified domain:\n",
    "    compute_sin(x,sin_x,precision_stage_1)\n",
    "\n",
    "# Generating the model\n",
    "qmod = create_model(main)\n",
    "\n",
    "# Setting constraints on the circuit synthesis engine\n",
    "qmod_with_constraints_stage_1 = set_constraints(qmod, Constraints(max_depth=2000, max_width=25))\n",
    "\n",
    "# Setting execution preferences for executing on the Azure IonQ simulator:\n",
    "shots = 1000\n",
    "backend = 'ionq.simulator'\n",
    "\n",
    "# Applying the given constraints and backend preferences to the model\n",
    "azure_preferences = AzureBackendPreferences(backend_name=backend,)\n",
    "azure_qmod_stage_1 = set_execution_preferences(qmod_with_constraints_stage_1, \n",
    "                                        ExecutionPreferences(\n",
    "                                            num_shots=shots,  \n",
    "                                            backend_preferences=azure_preferences))\n",
    "\n",
    "# Synthesizing the model to a quantum program\n",
    "quantum_program = synthesize(azure_qmod_stage_1)\n",
    "show(quantum_program)\n",
    "\n",
    "# Executing the quantum program through Azure\n",
    "job = execute(quantum_program) \n",
    "\n",
    "# Extract parsed counts from the result\n",
    "res = job.get_sample_result()"
   ]
  },
  {
   "cell_type": "markdown",
   "id": "410ee628-3dda-4c87-ad8e-113a534449df",
   "metadata": {},
   "source": [
    "Important note: the synthesized program must be named `quantum_program` for the evaluation code to properly assess the depth and width of the circuit. Additionally, the execution results of the circuit must be stored in a variable named `res` to enable the evaluation of the accuracy of the approximation results after execution (for stage 1 only).\n",
    "\n",
    "\n",
    "For your convenience, you can post-process the execution outputs of the first stage in this manner (in addition to evaluating the approximation using the `evaluate_score_prec` test function):\n"
   ]
  },
  {
   "cell_type": "code",
   "execution_count": 25,
   "id": "9772bf90-8936-430c-809c-cfd18fff89e2",
   "metadata": {},
   "outputs": [
    {
     "name": "stdout",
     "output_type": "stream",
     "text": [
      "State: 00000000 | x: 0.0 | sin_x: 0.0 | Shots: 62\n",
      "State: 00000001 | x: 0.0625 | sin_x: 0.0 | Shots: 62\n",
      "State: 00010010 | x: 0.125 | sin_x: 0.0625 | Shots: 62\n",
      "State: 00100011 | x: 0.1875 | sin_x: 0.125 | Shots: 62\n",
      "State: 00110100 | x: 0.25 | sin_x: 0.1875 | Shots: 62\n",
      "State: 01000101 | x: 0.3125 | sin_x: 0.25 | Shots: 62\n",
      "State: 01010110 | x: 0.375 | sin_x: 0.3125 | Shots: 62\n",
      "State: 01100111 | x: 0.4375 | sin_x: 0.375 | Shots: 62\n",
      "State: 01111000 | x: 0.5 | sin_x: 0.4375 | Shots: 62\n",
      "State: 10001001 | x: 0.5625 | sin_x: 0.5 | Shots: 62\n",
      "State: 10011010 | x: 0.625 | sin_x: 0.5625 | Shots: 62\n",
      "State: 10101011 | x: 0.6875 | sin_x: 0.625 | Shots: 62\n",
      "State: 10111100 | x: 0.75 | sin_x: 0.6875 | Shots: 62\n",
      "State: 11001101 | x: 0.8125 | sin_x: 0.75 | Shots: 62\n",
      "State: 11011110 | x: 0.875 | sin_x: 0.8125 | Shots: 62\n",
      "State: 11101111 | x: 0.9375 | sin_x: 0.875 | Shots: 62\n"
     ]
    }
   ],
   "source": [
    "# Extract states and their corresponding `x` values\n",
    "states_with_x = [\n",
    "    {\n",
    "        \"state\": state,\n",
    "        \"x\": res.parsed_states[state][\"x\"],\n",
    "        \"sin_x\": res.parsed_states[state][\"sin_x\"],\n",
    "        \"shots\": res.counts[state]\n",
    "    }\n",
    "    for state in res.counts\n",
    "]\n",
    "\n",
    "# Sort states by the value of `x`\n",
    "sorted_states = sorted(states_with_x, key=lambda s: s[\"x\"])\n",
    "\n",
    "# Print the sorted states and their shot counts\n",
    "for state in sorted_states:\n",
    "    print(f\"State: {state['state']} | x: {state['x']} | sin_x: {state['sin_x']} | Shots: {state['shots']}\")"
   ]
  },
  {
   "cell_type": "markdown",
   "id": "1dbd394a-cb94-4bc7-85da-1d7ab3cf1683",
   "metadata": {},
   "source": [
    "In stage 2 of the challenge, the main function should follow this structure and include the additional synthesis constraints:"
   ]
  },
  {
   "cell_type": "code",
   "execution_count": null,
   "id": "15391c15-ede2-44b5-952c-528aaabe28e8",
   "metadata": {},
   "outputs": [],
   "source": [
    "precision_stage_2 = 4#TODO give your maximal precision parameter value\n",
    "\n",
    "@qfunc\n",
    "def main(x: Output[QNum],sin_x: Output[QNum]):\n",
    "\n",
    "    # A quantum variable which represents fractional numbers is initialized\n",
    "    allocate_num(num_qubits=precision_stage_2,      \n",
    "                is_signed=False,            \n",
    "                fraction_digits=precision_stage_2,\n",
    "                out=x)\n",
    "    \n",
    "    # Creating a uniform superposition of all possible values of the quantum number by using a Hadamard transform\n",
    "    hadamard_transform(x)\n",
    "\n",
    "    # The central function for computing the approximation of sin(x) in the specified domain:\n",
    "    compute_sin(x,sin_x,precision_stage_2)\n",
    "\n",
    "# Generating the model\n",
    "qmod = create_model(main)\n",
    "\n",
    "# Applying the given constraints and backend preferences to the model\n",
    "quantum_model_with_constraints_stage_2 = set_constraints(\n",
    "    qmod, Constraints(optimization_parameter=\"depth\", max_width=127))\n",
    "\n",
    "# Synthesizing the model to a quantum program\n",
    "quantum_program = synthesize(quantum_model_with_constraints_stage_2)\n",
    "show(quantum_program)"
   ]
  },
  {
   "cell_type": "markdown",
   "id": "a48f306d-e85e-41f4-a787-6a4d7598233f",
   "metadata": {},
   "source": [
    "Important note: the synthesized circuit must be named `quantum_program` for the evaluation code to properly present the depth and width of the circuit for this stage!"
   ]
  },
  {
   "cell_type": "markdown",
   "id": "773d5430-0120-4420-bde1-61c6f7c71b0b",
   "metadata": {},
   "source": [
    "## Evaluating Your Code:"
   ]
  },
  {
   "cell_type": "markdown",
   "id": "406f799f-9ee5-48da-992d-e12da6cc1e08",
   "metadata": {},
   "source": [
    "The following test function `evaluate_score_prec` evaluates the difference between your algorithm's approximation of $sin(x)$ and the exact function computed classically using the NumPy package. The metric calculates and returns the maximal distance value between the array of approximated points and the corresponding array of exact values:\n",
    "\n",
    "\n",
    "\n",
    "\n"
   ]
  },
  {
   "cell_type": "code",
   "execution_count": 27,
   "id": "7645e8a8-717f-425f-9524-da1ff07a46a0",
   "metadata": {},
   "outputs": [],
   "source": [
    "import numpy as np\n",
    "\n",
    "def evaluate_score_prec(res, user_input_precision):\n",
    "    \"\"\"\n",
    "    Evaluates the score based on the provided result object `res` and user-specified precision.\n",
    "\n",
    "    Args:\n",
    "        res: The result object containing `parsed_states` and other information.\n",
    "        user_input_precision: The precision level for the evaluation.\n",
    "\n",
    "    Returns:\n",
    "        max_distance: The maximum distance between expected and measured y values.\n",
    "    \"\"\"\n",
    "    # Constants\n",
    "    precision = user_input_precision # Precision value given in hackathon participants' code\n",
    "    domain = np.arange(0, 1, 1 / 2**precision) # generates points in the domain [0,1) based on the calculated_precision\n",
    "    expected_y = np.sin(domain) # Calculates the sin values classically with NumPy\n",
    "\n",
    "    # Extract parsed states\n",
    "    parsed_states = res.parsed_states\n",
    "    \n",
    "    # Sort parsed states by 'x' values\n",
    "    parsed_counts = sorted(parsed_states.items(), key=lambda item: item[1]['x'])\n",
    "    \n",
    "    # Form the dictionary with x and y values\n",
    "    results_dict = {float(s[1]['x']): float(s[1]['sin_x']) for s in parsed_counts}\n",
    "\n",
    "    # Verify all strings were sampled, also no superpositions\n",
    "    assert len(results_dict) == 2 ** user_input_precision, \\\n",
    "        f\"Expected {2 ** user_input_precision} unique states, but got {len(results_dict)}.\"\n",
    "\n",
    "    # Compare hackathon participants' results against classical results\n",
    "    measured_y = []\n",
    "    for x_val in domain:\n",
    "        # Find the floored x value that matches the user precision\n",
    "        x_val_floored = int(x_val * (2 ** user_input_precision)) / (2 ** user_input_precision)\n",
    "        measured_y.append(results_dict.get(x_val_floored, 0))  # Default to 0 if key is missing\n",
    "\n",
    "    # Calculate the maximum distance metric\n",
    "    max_distance = np.max(np.abs(expected_y - np.array(measured_y)))\n",
    "    return max_distance"
   ]
  },
  {
   "cell_type": "code",
   "execution_count": 28,
   "id": "b1afae48-066e-4b9c-ab70-e84430a1c598",
   "metadata": {},
   "outputs": [
    {
     "name": "stdout",
     "output_type": "stream",
     "text": [
      "Maximum Distance: 0.06891889173930699\n"
     ]
    }
   ],
   "source": [
    "max_distance = evaluate_score_prec(res, user_input_precision=precision_stage_1) # The score is evaluated based on the results object `res` from the participants' code and `precision_stage_1`\n",
    "print(f\"Maximum Distance: {max_distance}\")"
   ]
  },
  {
   "cell_type": "markdown",
   "id": "d9755544-df59-4530-8bc3-4a27e2926518",
   "metadata": {},
   "source": [
    "Use this code to extract the width and depth of your synthesized circuits:"
   ]
  },
  {
   "cell_type": "code",
   "execution_count": null,
   "id": "de9953b3-be86-4d15-ae8f-4d4476fd68cb",
   "metadata": {},
   "outputs": [],
   "source": [
    "q_program = QuantumProgram.from_qprog(quantum_program) # Gets `quantum_program` from participants' code\n",
    "print('width =',q_program.data.width)\n",
    "print('depth =',q_program.transpiled_circuit.depth)"
   ]
  },
  {
   "cell_type": "markdown",
   "id": "49398fdc-bf7a-4e57-ac37-d18ac36881f6",
   "metadata": {},
   "source": [
    "## Optional Preparation Exercise:"
   ]
  },
  {
   "cell_type": "markdown",
   "id": "1a442ccd-d7f5-4445-8468-3be372f5a36e",
   "metadata": {},
   "source": [
    "This exercise consists of three parts, each adding to the complexity of the previous step.\n",
    "\n",
    "In each part (except the first), a section of the code is missing and marked with #TODO. Your task is to complete the missing code so that the algorithm runs successfully and produces the correct results.\n",
    "\n",
    "If you get stuck at any point, refer to the exercise solutions provided at the end of this notebook :)"
   ]
  },
  {
   "cell_type": "markdown",
   "id": "1e2c5ccd-986e-456c-a073-0ef7d91d31c2",
   "metadata": {},
   "source": [
    "If you haven't installed the Classiq SDK package yet, you need to install it first by running the following line (or through the terminal):"
   ]
  },
  {
   "cell_type": "code",
   "execution_count": null,
   "id": "143f6625-7cdf-4ef1-ae60-965f133dd0bb",
   "metadata": {},
   "outputs": [],
   "source": [
    "!pip install -U classiq"
   ]
  },
  {
   "cell_type": "markdown",
   "id": "62e18bb9-3851-4960-921e-838d6c32d69c",
   "metadata": {},
   "source": [
    "After installation, the final step is to authenticate your device with the Classiq backend:"
   ]
  },
  {
   "cell_type": "code",
   "execution_count": 12,
   "id": "9f621654-d3e4-4f6b-b71e-254b7ad59e7d",
   "metadata": {},
   "outputs": [],
   "source": [
    "import classiq\n",
    "classiq.authenticate()"
   ]
  },
  {
   "cell_type": "markdown",
   "id": "92e79fb9-07d2-453a-8bd2-6412f36b9b30",
   "metadata": {},
   "source": [
    "We start by preparing a uniform superposition of quantum states corresponding to fractional numbers in the domain $[0,1)$, with equal spacing intervals of $\\frac{1}{2^K}$, where $K=5$ represents the number of qubits:"
   ]
  },
  {
   "cell_type": "code",
   "execution_count": 13,
   "id": "89a282e7-c51f-4c0b-bfd0-fb2d77959112",
   "metadata": {},
   "outputs": [
    {
     "name": "stdout",
     "output_type": "stream",
     "text": [
      "Opening: https://platform.classiq.io/circuit/964c4baa-b3af-4426-8589-68c6842b922d?version=0.63.1\n"
     ]
    }
   ],
   "source": [
    "from classiq import *\n",
    "K = 5\n",
    "\n",
    "@qfunc\n",
    "def main(x:Output[QNum]): \n",
    "    allocate_num(num_qubits=K, is_signed=False, fraction_digits=K,out=x) # allocating K unsigned qubits with a precision (number of fraction digits) of K\n",
    "    hadamard_transform(x) # Creating a uniform superposition of the different states of x\n",
    "\n",
    "quantum_model = create_model(main) # Creating the model\n",
    "quantum_program = synthesize(quantum_model) # Synthesizing the model\n",
    "\n",
    "show(quantum_program) # View the circuit visualization in the IDE\n"
   ]
  },
  {
   "cell_type": "markdown",
   "id": "54522dff-11d8-45ba-9a10-6a4908a160f3",
   "metadata": {},
   "source": [
    "The built-in `allocate_num` function initializes a quantum variable that can represent different fractional numbers, determined by the number of qubits allocated and the fraction digits defined. By default, `allocate_num` initializes the variable to the $|{0}\\rangle_K$ state. The `hadmard_transform` then creates a superposition of all possible states in the range mentioned above.\n",
    "\n",
    "Note that increasing the number of qubits $K$ in our example improves the precision of the fraction, as the number of decimal places scales with $K$ due to the properties of base-2 representation.\n",
    "\n",
    "\n",
    "\n",
    "\n",
    "\n"
   ]
  },
  {
   "cell_type": "markdown",
   "id": "415d97b8-eb14-4eaf-b5ed-5e72805587c5",
   "metadata": {},
   "source": [
    "Next, we will construct the general linear function $y= ax+b$, where $a=2$ and $b=1$ are classical integer parameters, and $x$ and $y$ are quantum states representing integers:"
   ]
  },
  {
   "cell_type": "code",
   "execution_count": 14,
   "id": "cf461dbd-d36c-4e43-879a-ec762ddf09b3",
   "metadata": {},
   "outputs": [],
   "source": [
    "@qfunc\n",
    "def linear_func(a: CInt, b: CInt, x:QNum, y: Output[QNum]):\n",
    "    y |= a*x+b #Initializing y with the linear function values\n"
   ]
  },
  {
   "cell_type": "code",
   "execution_count": null,
   "id": "7174f31f-5152-4b35-bcab-70823325e809",
   "metadata": {},
   "outputs": [],
   "source": [
    "@qfunc\n",
    "def main(x:Output[QNum], y: Output[QNum]):\n",
    "    a = 2\n",
    "    b = 1\n",
    "\n",
    "    allocate_num(4,False,0,x)\n",
    "    #TODO initialize x with four (4) qubits and prepare the variable in a uniform superposition.\n",
    "    #TODO use the `linear_func` to output the different corresponding values of x and y\n",
    "\n",
    "qmod = create_model(main)\n",
    "quantum_program = synthesize(qmod)\n",
    "job = execute(quantum_program)\n",
    "job.open_in_ide() # View the resulted histogram in the IDE"
   ]
  },
  {
   "cell_type": "markdown",
   "id": "4082d16a-2dfa-412d-9a11-e5b5da999a94",
   "metadata": {},
   "source": [
    "This operation is performed very elegantly with Classiq, creating the entangled superposition of states $\n",
    "\\sum_{x =0}^{2^4-1}\\ket{x}\\ket{2 x+1}$.\n",
    "\n",
    "Extracting the results through the SDK will yield the corresponding values of $x$ and $y$:"
   ]
  },
  {
   "cell_type": "code",
   "execution_count": null,
   "id": "59aa80aa-8a85-4f82-9809-ed4482e30fa0",
   "metadata": {},
   "outputs": [],
   "source": [
    "result = job.result()\n",
    "parsed_counts = result[0].value.parsed_counts\n",
    "for sampled_state in parsed_counts: print(sampled_state.state)"
   ]
  },
  {
   "cell_type": "markdown",
   "id": "92eae79d-4a7b-4da9-a692-cc7eee82ee90",
   "metadata": {},
   "source": [
    "There are cases that we would like to apply two different linear operations to the same quantum variable $y$. This is not trivial since each arithmetic operation initializes a new quantum variable.\n",
    "\n",
    "This can be carried out by first regularly applying the linear operation to a new variable and then using an XOR operation to pass it to a desired variable. \n",
    "\n"
   ]
  },
  {
   "cell_type": "markdown",
   "id": "44e023e6-ada4-4915-bb16-d20c682c81c2",
   "metadata": {},
   "source": [
    "\n",
    "Let's first define the functional building block:"
   ]
  },
  {
   "cell_type": "code",
   "execution_count": 125,
   "id": "d5e621e4-a15f-45a4-9a8a-819d03889ac0",
   "metadata": {},
   "outputs": [],
   "source": [
    "@qfunc\n",
    "def inplace_linear_operation(a: CInt, b: CInt, x: QNum, y: QNum):\n",
    "    tmp = QNum('tmp')\n",
    "    linear_func(a,b,x,tmp)\n",
    "    inplace_xor(tmp,y) # Bitwise-XOR of a quantum variable with an arithmetic expression"
   ]
  },
  {
   "cell_type": "markdown",
   "id": "d2d43011-8495-4cf7-87f7-e1548dae7196",
   "metadata": {},
   "source": [
    "And continuing to the main function, checking the implementation:"
   ]
  },
  {
   "cell_type": "code",
   "execution_count": null,
   "id": "5be87c25-e2c4-43b8-8502-1ea0c0887225",
   "metadata": {},
   "outputs": [],
   "source": [
    "@qfunc\n",
    "def main(x: Output[QNum],y: Output[QNum]):\n",
    "    a = 1\n",
    "    b = 2\n",
    "\n",
    "    allocate_num(4,False,0,y)\n",
    "    allocate_num(4,False,0,x)\n",
    "    hadamard_transform(x)\n",
    "    inplace_linear_operation(a,b,x,y)\n",
    "\n",
    "qmod = create_model(main)\n",
    "qprog = synthesize(qmod)\n",
    "show(qprog)"
   ]
  },
  {
   "cell_type": "markdown",
   "id": "952d6468-1bc2-4112-8ab7-6fe09999da80",
   "metadata": {},
   "source": [
    "This method is useful for applying a controlled operation on different linear operations. \n",
    "\n",
    "For the last task, we want to add a controlled operation that implements the linear function $\\ket{x}\\rightarrow\\ket{x}\\ket{2x+1}$ for a control state of $|{0}\\rangle $, and implements the linear function $\\ket{x}\\rightarrow\\ket{x}\\ket{x+2}$ if the control state is in the $|{1}\\rangle $ state.\n",
    "\n",
    "To this end, we make use of the `within_apply` statement ([read more](https://docs.classiq.io/latest/qmod-reference/api-reference/operations/?h=within_apply#classiq.qmod.builtins.operations.within_apply)). The `within_apply` statement implements the operation $UVU^{\\dagger}$ where $U$ is only utilized to prepare the state for the action of $V$. After the action of $V$, $U$ is uncomputed by $U^{\\dagger}$. In this case, the linear operation variable serves as a temporary placeholder, initially storing the operation outcomes and subsequently transferring them to the target variable, allowing the linear operation to be uncomputed later.\n",
    "\n",
    "\n",
    "First, we utilize the `within_apply` statement for our case:"
   ]
  },
  {
   "cell_type": "code",
   "execution_count": null,
   "id": "07c49a8f-c1f2-4894-a19f-e17fb6ba4b46",
   "metadata": {},
   "outputs": [],
   "source": [
    "@qfunc\n",
    "def linear_func(a: CInt, b: CInt, x:QNum, y: Output[QNum]):\n",
    "    y |= a*x+b\n",
    "    \n",
    "@qfunc\n",
    "def inplace_linear_func(a: CInt, b: CInt, x:QNum, y: QNum): # A more efficient bitwise XOR\n",
    "    #TODO declare and initialize the `tmp` variable\n",
    "    within_apply(within= lambda: linear_func(a,b,x,tmp),\n",
    "                apply= lambda: inplace_xor(tmp,y))"
   ]
  },
  {
   "cell_type": "markdown",
   "id": "6bbd002a-c819-499d-8ff5-70f15065516b",
   "metadata": {},
   "source": [
    "Important note: The above two functions become unnecessary when the Classiq native construct `inplace_xor` is leveraged more effectively!  Directly implementing `inplace_xor(a[i]*x+b[i], y)` within the `control_logic` function (defined below) eliminates the need for the `tmp` variable, making the algorithm less costly. \n",
    "\n",
    "#TODO: Implement this yourself after completing the rest of the function and compare between results! \n",
    "\n",
    "\n",
    "\n",
    "\n",
    "\n"
   ]
  },
  {
   "cell_type": "markdown",
   "id": "eef1ddde-696c-4bf8-bd49-7aec443d19d3",
   "metadata": {},
   "source": [
    "Now, we proceed to define the `control_logic` function, implementing an iterative control operation while modifying the $a$ and $b$ coefficients:\n"
   ]
  },
  {
   "cell_type": "code",
   "execution_count": 137,
   "id": "7ee56b14-7f1b-4588-8a5a-26c19ed3a845",
   "metadata": {},
   "outputs": [],
   "source": [
    "@qfunc\n",
    "def control_logic(a: CArray[int], b: CArray[int], controller: QNum, x: QNum, y: QNum): # Implements a repeated control operation, altering a and b\n",
    "    \n",
    "    repeat(count=a.len,         \n",
    "            iteration=lambda i: control(controller==i, lambda: inplace_linear_func(a[i],b[i],x,y)))"
   ]
  },
  {
   "cell_type": "markdown",
   "id": "3ec6e15b-db56-4720-bd93-59564fe16dd3",
   "metadata": {},
   "source": [
    "Finally, we bring all the functions together within the `main` function:\n",
    "\n"
   ]
  },
  {
   "cell_type": "code",
   "execution_count": null,
   "id": "f903ba5d-480d-4a5c-8d73-ce0b29944b1a",
   "metadata": {},
   "outputs": [],
   "source": [
    "@qfunc\n",
    "def main(controller: Output[QNum], x: Output[QNum],y: Output[QNum]):\n",
    "\n",
    "    # Linear polynomial parameters\n",
    "    a = [2,1]\n",
    "    b = [1,2]\n",
    "\n",
    "    # TODO: Initialize x to a uniform superposition in the domain [0,2^4-1], initialize y for the same number of qubits as x\n",
    "    # TODO: initialize the control qubit to a uniform superposition\n",
    "    # TODO: Call the `control_logic` function with correct arguments\n",
    "    \n",
    "qmod = create_model(main)\n",
    "qprog = synthesize(qmod)\n",
    "show(qprog)"
   ]
  },
  {
   "cell_type": "markdown",
   "id": "933ecdc4-53c0-4d49-adda-b9b6d8cb321b",
   "metadata": {},
   "source": [
    "We can now execute the quantum program and extract the results to verify that the algorithm works as intended:\n"
   ]
  },
  {
   "cell_type": "code",
   "execution_count": null,
   "id": "3fa1cddf-f17c-4d4e-bac4-fd223cbf7fce",
   "metadata": {},
   "outputs": [],
   "source": [
    "def print_parsed_counts(job):\n",
    "    results = job.result() # gets results\n",
    "    parsed_counts = results[0].value.parsed_counts\n",
    "    for parsed_state in parsed_counts: print(parsed_state.state)\n",
    "\n",
    "job = execute(qprog)\n",
    "print_parsed_counts(job)"
   ]
  },
  {
   "cell_type": "markdown",
   "id": "6c587875-a4ce-4025-b2d2-203ad5c20948",
   "metadata": {},
   "source": [
    "Note that there could be a rounding and overflow issue— it is impossible to represent the number $2*15+1=31$ using only $4$ binary digits, as the domain $[0,31]$ requires at least 5 bits for representation. See the Classiq [documentation](https://docs.classiq.io/latest/explore/functions/function_usage_examples/arithmetic/arithmetic_expression/arithmetic_expression_example/?h=arithmetic+operators) for further explanations."
   ]
  },
  {
   "cell_type": "markdown",
   "id": "6b871424-ca41-4f0b-bcff-ea69bdb11578",
   "metadata": {},
   "source": [
    "Alternatively, we can use Classiq's powerful synthesis engine to optimize the circuit for minimal width:\n",
    "\n"
   ]
  },
  {
   "cell_type": "code",
   "execution_count": null,
   "id": "a0beb890-e57d-48a4-85ee-cf7a4a4d4dde",
   "metadata": {},
   "outputs": [],
   "source": [
    "constraints = Constraints(optimization_parameter='width')\n",
    "qmod = set_constraints(qmod,constraints)\n",
    "qprog = synthesize(qmod)\n",
    "quantum_program = QuantumProgram.from_qprog(qprog)\n",
    "print('width =',quantum_program.data.width)\n",
    "print('depth =',quantum_program.transpiled_circuit.depth)"
   ]
  },
  {
   "cell_type": "markdown",
   "id": "eabf67c1-b956-4992-91fe-9e4b312274dd",
   "metadata": {},
   "source": [
    "And subsquently compare it to a circuit optimized for minimal depth:"
   ]
  },
  {
   "cell_type": "code",
   "execution_count": null,
   "id": "3d761db6-9b85-4279-8d60-9f7696fcb355",
   "metadata": {},
   "outputs": [],
   "source": [
    "constraints = Constraints(optimization_parameter='depth')\n",
    "qmod = set_constraints(qmod,constraints)\n",
    "qprog = synthesize(qmod)\n",
    "quantum_program = QuantumProgram.from_qprog(qprog)\n",
    "print('width =',quantum_program.data.width)\n",
    "print('depth =',quantum_program.transpiled_circuit.depth)"
   ]
  },
  {
   "cell_type": "markdown",
   "id": "d7c6bad0-6a73-47eb-8fbe-db2b7850d42d",
   "metadata": {
    "jp-MarkdownHeadingCollapsed": true
   },
   "source": [
    "Here, we can clearly observe the power of high-level functional design!\n",
    "\n",
    "The same algorithm with identical functionality has been optimized for width, resulting in a far more qubit-efficient circuit, compared to the depth-optimized circuit. While the depth-optimized circuit utilizes more qubits to achieve a shallower design, both circuits ultimately implement the same functionality.\n",
    "\n",
    "\n",
    "\n",
    "\n",
    "\n",
    "\n"
   ]
  },
  {
   "cell_type": "markdown",
   "id": "b0ddaac6-cf40-4a1f-9993-811d89f5e27d",
   "metadata": {},
   "source": [
    "## Solutions to the Optional Preparation Exercise:"
   ]
  },
  {
   "cell_type": "markdown",
   "id": "8fe82edc-980f-4a6b-90cc-97868bfed861",
   "metadata": {},
   "source": [
    "Second task (building a linear function):"
   ]
  },
  {
   "cell_type": "code",
   "execution_count": 136,
   "id": "2d059068-85d4-455f-9c3c-0586a9df6020",
   "metadata": {},
   "outputs": [],
   "source": [
    "from classiq import *"
   ]
  },
  {
   "cell_type": "code",
   "execution_count": 137,
   "id": "870aa107-4b33-4dcc-b350-b3ddef810de0",
   "metadata": {},
   "outputs": [
    {
     "name": "stdout",
     "output_type": "stream",
     "text": [
      "Opening: https://platform.classiq.io/circuit/cbba63bb-b427-4a9d-9ad5-4583190413a2?version=0.63.1\n"
     ]
    }
   ],
   "source": [
    "@qfunc\n",
    "def linear_func(a: CInt, b: CInt, x:QNum, y: Output[QNum]):\n",
    "    y |= a*x+b\n",
    "    \n",
    "@qfunc\n",
    "def main(x:Output[QNum], y: Output[QNum]):\n",
    "    a = 2\n",
    "    b = 1\n",
    "    allocate_num(num_qubits=4,is_signed=False,fraction_digits=0,out=x)\n",
    "    hadamard_transform(x)\n",
    "    linear_func(a,b,x,y)\n",
    "\n",
    "qmod = create_model(main)\n",
    "quantum_program = synthesize(qmod)\n",
    "show(quantum_program)\n",
    "job = execute(quantum_program)\n",
    "job.open_in_ide() # View the resulting histogram in the IDE"
   ]
  },
  {
   "cell_type": "markdown",
   "id": "db5750f9-cd31-40ec-b6e8-d9172b31ff67",
   "metadata": {},
   "source": [
    "Third task (applying two different linear operations to a target variable in a controlled manner), without making use of the `tmp` variable:"
   ]
  },
  {
   "cell_type": "code",
   "execution_count": null,
   "id": "0220ca3b-4e4e-4a75-a14a-34c2d167644d",
   "metadata": {},
   "outputs": [],
   "source": [
    "@qfunc\n",
    "def control_logic(a: CArray[int], b: CArray[int], controller: QNum, x: QNum, y: QNum):\n",
    "    \n",
    "    repeat(count=a.len,         \n",
    "            iteration=lambda i: control(controller==i, lambda: inplace_xor(a[i]*x+b[i],y)))\n",
    "\n",
    "@qfunc\n",
    "def main(controller: Output[QNum], x: Output[QNum],y: Output[QNum]):\n",
    "\n",
    "    # Linear polynomial parameters\n",
    "    a = [2,1]\n",
    "    b = [1,2]\n",
    "\n",
    "\n",
    "    # Initializing x to a superposition in the domain [0,2^4-1]\n",
    "    allocate_num(4,False,0,x)\n",
    "    hadamard_transform(x)\n",
    "    \n",
    "    #Initialize y\n",
    "    allocate_num(4,False,0,y)\n",
    "\n",
    "    # Setting the controller in a superposition\n",
    "    allocate_num(1,False,0,controller)\n",
    "    H(controller)\n",
    "\n",
    "    # Implementing the control logic\n",
    "    control_logic(a,b,controller,x,y)\n",
    "\n",
    "    \n",
    "qmod = create_model(main)\n",
    "qprog = synthesize(qmod)\n",
    "show(qprog)\n",
    "\n",
    "def print_parsed_counts(job):\n",
    "    results = job.result()\n",
    "    parsed_counts = results[0].value.parsed_counts\n",
    "    for parsed_state in parsed_counts: print(parsed_state.state)\n",
    "\n",
    "job = execute(qprog)\n",
    "print_parsed_counts(job)\n",
    "\n",
    "constraints = Constraints(optimization_parameter='width')\n",
    "qmod = set_constraints(qmod,constraints)\n",
    "qprog = synthesize(qmod)\n",
    "quantum_program = QuantumProgram.from_qprog(qprog)\n",
    "print('width (optimized for width) =',quantum_program.data.width)\n",
    "print('depth (optimized for width) =',quantum_program.transpiled_circuit.depth)\n",
    "\n",
    "constraints = Constraints(optimization_parameter='depth')\n",
    "qmod = set_constraints(qmod,constraints)\n",
    "qprog = synthesize(qmod)\n",
    "quantum_program = QuantumProgram.from_qprog(qprog)\n",
    "print('width (optimized for depth)=',quantum_program.data.width)\n",
    "print('depth (optimized for depth)=',quantum_program.transpiled_circuit.depth)"
   ]
  },
  {
   "cell_type": "markdown",
   "id": "4740c793-05a5-4a9f-8fb1-69c5c8805e78",
   "metadata": {},
   "source": [
    "Note that this code might not be visualizable with the new visualization. If this is the case, you can switch to the old visualization to observe the building blocks.\n"
   ]
  },
  {
   "cell_type": "code",
   "execution_count": 138,
   "metadata": {},
   "outputs": [],
   "source": [
    "import matplotlib.pyplot as plt\n"
   ]
  },
  {
   "cell_type": "code",
   "execution_count": 10,
   "metadata": {},
   "outputs": [
    {
     "ename": "ClassiqAPIError",
     "evalue": "\n\tValidationError: 1 validation error for Arithmetic\n  Value error, The following names are undefined: {'e'} [type=value_error, input_value={'expression': '0.9980475... 'machine_precision': 8}, input_type=dict]\n    For further information visit https://errors.pydantic.dev/2.9/v/value_error\n\t\tat ipynb cell line 9 in function iteration_1_lambda___0_0_expanded___0\n\nError identifier: E11B3AA5E-06B3-4811-B7CF-0F4C626E7D05.\nIf you need further assistance, please reach out on our Community Slack channel at: https://short.classiq.io/join-slack",
     "output_type": "error",
     "traceback": [
      "\u001b[0;31m---------------------------------------------------------------------------\u001b[0m",
      "\u001b[0;31mClassiqAPIError\u001b[0m                           Traceback (most recent call last)",
      "Cell \u001b[0;32mIn[10], line 45\u001b[0m\n\u001b[1;32m     43\u001b[0m qmod \u001b[38;5;241m=\u001b[39m create_model(main)\n\u001b[1;32m     44\u001b[0m inbetween_model \u001b[38;5;241m=\u001b[39m set_constraints(qmod, Constraints(optimization_parameter\u001b[38;5;241m=\u001b[39mOptimizationParameter\u001b[38;5;241m.\u001b[39mDEPTH, max_width\u001b[38;5;241m=\u001b[39m\u001b[38;5;241m25\u001b[39m))\n\u001b[0;32m---> 45\u001b[0m qprog \u001b[38;5;241m=\u001b[39m \u001b[43msynthesize\u001b[49m\u001b[43m(\u001b[49m\u001b[43minbetween_model\u001b[49m\u001b[43m)\u001b[49m\n\u001b[1;32m     46\u001b[0m \u001b[38;5;66;03m# show(qprog)\u001b[39;00m\n\u001b[1;32m     47\u001b[0m job \u001b[38;5;241m=\u001b[39m execute(qprog)\n",
      "File \u001b[0;32m/usr/local/lib/python3.10/dist-packages/classiq/synthesis.py:85\u001b[0m, in \u001b[0;36msynthesize\u001b[0;34m(serialized_model, auto_show)\u001b[0m\n\u001b[1;32m     71\u001b[0m \u001b[38;5;28;01mdef\u001b[39;00m \u001b[38;5;21msynthesize\u001b[39m(\n\u001b[1;32m     72\u001b[0m     serialized_model: SerializedModel, auto_show: \u001b[38;5;28mbool\u001b[39m \u001b[38;5;241m=\u001b[39m \u001b[38;5;28;01mFalse\u001b[39;00m\n\u001b[1;32m     73\u001b[0m ) \u001b[38;5;241m-\u001b[39m\u001b[38;5;241m>\u001b[39m SerializedQuantumProgram:\n\u001b[1;32m     74\u001b[0m     \u001b[38;5;124;03m\"\"\"\u001b[39;00m\n\u001b[1;32m     75\u001b[0m \u001b[38;5;124;03m    Synthesize a model with the Classiq engine to receive a quantum program.\u001b[39;00m\n\u001b[1;32m     76\u001b[0m \u001b[38;5;124;03m    [More details](https://docs.classiq.io/latest/reference-manual/synthesis/)\u001b[39;00m\n\u001b[0;32m   (...)\u001b[0m\n\u001b[1;32m     83\u001b[0m \u001b[38;5;124;03m        SerializedQuantumProgram: Quantum program serialized as a string. (See: QuantumProgram)\u001b[39;00m\n\u001b[1;32m     84\u001b[0m \u001b[38;5;124;03m    \"\"\"\u001b[39;00m\n\u001b[0;32m---> 85\u001b[0m     result \u001b[38;5;241m=\u001b[39m \u001b[43masync_utils\u001b[49m\u001b[38;5;241;43m.\u001b[39;49m\u001b[43mrun\u001b[49m\u001b[43m(\u001b[49m\u001b[43msynthesize_async\u001b[49m\u001b[43m(\u001b[49m\u001b[43mserialized_model\u001b[49m\u001b[43m)\u001b[49m\u001b[43m)\u001b[49m\n\u001b[1;32m     86\u001b[0m     \u001b[38;5;28;01mif\u001b[39;00m auto_show:\n\u001b[1;32m     87\u001b[0m         show(result)\n",
      "File \u001b[0;32m/usr/local/lib/python3.10/dist-packages/classiq/_internals/async_utils.py:37\u001b[0m, in \u001b[0;36mrun\u001b[0;34m(coro)\u001b[0m\n\u001b[1;32m     32\u001b[0m \u001b[38;5;28;01mdef\u001b[39;00m \u001b[38;5;21mrun\u001b[39m(coro: Awaitable[T]) \u001b[38;5;241m-\u001b[39m\u001b[38;5;241m>\u001b[39m T:\n\u001b[1;32m     33\u001b[0m     \u001b[38;5;66;03m# Use this function instead of asyncio.run, since it ALWAYS\u001b[39;00m\n\u001b[1;32m     34\u001b[0m     \u001b[38;5;66;03m# creates a new event loop and clears the thread event loop.\u001b[39;00m\n\u001b[1;32m     35\u001b[0m     \u001b[38;5;66;03m# Never use asyncio.run in library code.\u001b[39;00m\n\u001b[1;32m     36\u001b[0m     loop \u001b[38;5;241m=\u001b[39m get_event_loop()\n\u001b[0;32m---> 37\u001b[0m     \u001b[38;5;28;01mreturn\u001b[39;00m \u001b[43mloop\u001b[49m\u001b[38;5;241;43m.\u001b[39;49m\u001b[43mrun_until_complete\u001b[49m\u001b[43m(\u001b[49m\u001b[43mcoro\u001b[49m\u001b[43m)\u001b[49m\n",
      "File \u001b[0;32m~/.local/lib/python3.10/site-packages/nest_asyncio.py:99\u001b[0m, in \u001b[0;36m_patch_loop.<locals>.run_until_complete\u001b[0;34m(self, future)\u001b[0m\n\u001b[1;32m     96\u001b[0m \u001b[38;5;28;01mif\u001b[39;00m \u001b[38;5;129;01mnot\u001b[39;00m f\u001b[38;5;241m.\u001b[39mdone():\n\u001b[1;32m     97\u001b[0m     \u001b[38;5;28;01mraise\u001b[39;00m \u001b[38;5;167;01mRuntimeError\u001b[39;00m(\n\u001b[1;32m     98\u001b[0m         \u001b[38;5;124m'\u001b[39m\u001b[38;5;124mEvent loop stopped before Future completed.\u001b[39m\u001b[38;5;124m'\u001b[39m)\n\u001b[0;32m---> 99\u001b[0m \u001b[38;5;28;01mreturn\u001b[39;00m \u001b[43mf\u001b[49m\u001b[38;5;241;43m.\u001b[39;49m\u001b[43mresult\u001b[49m\u001b[43m(\u001b[49m\u001b[43m)\u001b[49m\n",
      "File \u001b[0;32m/usr/lib/python3.10/asyncio/futures.py:201\u001b[0m, in \u001b[0;36mFuture.result\u001b[0;34m(self)\u001b[0m\n\u001b[1;32m    199\u001b[0m \u001b[38;5;28mself\u001b[39m\u001b[38;5;241m.\u001b[39m__log_traceback \u001b[38;5;241m=\u001b[39m \u001b[38;5;28;01mFalse\u001b[39;00m\n\u001b[1;32m    200\u001b[0m \u001b[38;5;28;01mif\u001b[39;00m \u001b[38;5;28mself\u001b[39m\u001b[38;5;241m.\u001b[39m_exception \u001b[38;5;129;01mis\u001b[39;00m \u001b[38;5;129;01mnot\u001b[39;00m \u001b[38;5;28;01mNone\u001b[39;00m:\n\u001b[0;32m--> 201\u001b[0m     \u001b[38;5;28;01mraise\u001b[39;00m \u001b[38;5;28mself\u001b[39m\u001b[38;5;241m.\u001b[39m_exception\u001b[38;5;241m.\u001b[39mwith_traceback(\u001b[38;5;28mself\u001b[39m\u001b[38;5;241m.\u001b[39m_exception_tb)\n\u001b[1;32m    202\u001b[0m \u001b[38;5;28;01mreturn\u001b[39;00m \u001b[38;5;28mself\u001b[39m\u001b[38;5;241m.\u001b[39m_result\n",
      "File \u001b[0;32m/usr/lib/python3.10/asyncio/tasks.py:232\u001b[0m, in \u001b[0;36mTask.__step\u001b[0;34m(***failed resolving arguments***)\u001b[0m\n\u001b[1;32m    228\u001b[0m \u001b[38;5;28;01mtry\u001b[39;00m:\n\u001b[1;32m    229\u001b[0m     \u001b[38;5;28;01mif\u001b[39;00m exc \u001b[38;5;129;01mis\u001b[39;00m \u001b[38;5;28;01mNone\u001b[39;00m:\n\u001b[1;32m    230\u001b[0m         \u001b[38;5;66;03m# We use the `send` method directly, because coroutines\u001b[39;00m\n\u001b[1;32m    231\u001b[0m         \u001b[38;5;66;03m# don't have `__iter__` and `__next__` methods.\u001b[39;00m\n\u001b[0;32m--> 232\u001b[0m         result \u001b[38;5;241m=\u001b[39m \u001b[43mcoro\u001b[49m\u001b[38;5;241;43m.\u001b[39;49m\u001b[43msend\u001b[49m\u001b[43m(\u001b[49m\u001b[38;5;28;43;01mNone\u001b[39;49;00m\u001b[43m)\u001b[49m\n\u001b[1;32m    233\u001b[0m     \u001b[38;5;28;01melse\u001b[39;00m:\n\u001b[1;32m    234\u001b[0m         result \u001b[38;5;241m=\u001b[39m coro\u001b[38;5;241m.\u001b[39mthrow(exc)\n",
      "File \u001b[0;32m/usr/local/lib/python3.10/dist-packages/classiq/synthesis.py:67\u001b[0m, in \u001b[0;36msynthesize_async\u001b[0;34m(serialized_model)\u001b[0m\n\u001b[1;32m     63\u001b[0m \u001b[38;5;28;01masync\u001b[39;00m \u001b[38;5;28;01mdef\u001b[39;00m \u001b[38;5;21msynthesize_async\u001b[39m(\n\u001b[1;32m     64\u001b[0m     serialized_model: SerializedModel,\n\u001b[1;32m     65\u001b[0m ) \u001b[38;5;241m-\u001b[39m\u001b[38;5;241m>\u001b[39m SerializedQuantumProgram:\n\u001b[1;32m     66\u001b[0m     model \u001b[38;5;241m=\u001b[39m Model\u001b[38;5;241m.\u001b[39mmodel_validate_json(serialized_model)\n\u001b[0;32m---> 67\u001b[0m     quantum_program \u001b[38;5;241m=\u001b[39m \u001b[38;5;28;01mawait\u001b[39;00m ApiWrapper\u001b[38;5;241m.\u001b[39mcall_generation_task(model)\n\u001b[1;32m     68\u001b[0m     \u001b[38;5;28;01mreturn\u001b[39;00m SerializedQuantumProgram(quantum_program\u001b[38;5;241m.\u001b[39mmodel_dump_json(indent\u001b[38;5;241m=\u001b[39m\u001b[38;5;241m2\u001b[39m))\n",
      "File \u001b[0;32m/usr/local/lib/python3.10/dist-packages/classiq/_internals/api_wrapper.py:125\u001b[0m, in \u001b[0;36mApiWrapper.call_generation_task\u001b[0;34m(cls, model, http_client)\u001b[0m\n\u001b[1;32m    121\u001b[0m poller \u001b[38;5;241m=\u001b[39m JobPoller(base_url\u001b[38;5;241m=\u001b[39mroutes\u001b[38;5;241m.\u001b[39mTASKS_GENERATE_FULL_PATH)\n\u001b[1;32m    122\u001b[0m result \u001b[38;5;241m=\u001b[39m \u001b[38;5;28;01mawait\u001b[39;00m poller\u001b[38;5;241m.\u001b[39mrun_pydantic(\n\u001b[1;32m    123\u001b[0m     model, timeout_sec\u001b[38;5;241m=\u001b[39m\u001b[38;5;28;01mNone\u001b[39;00m, http_client\u001b[38;5;241m=\u001b[39mhttp_client\n\u001b[1;32m    124\u001b[0m )\n\u001b[0;32m--> 125\u001b[0m \u001b[38;5;28;01mreturn\u001b[39;00m \u001b[43m_parse_job_response\u001b[49m\u001b[43m(\u001b[49m\u001b[43mresult\u001b[49m\u001b[43m,\u001b[49m\u001b[43m \u001b[49m\u001b[43mgenerator_result\u001b[49m\u001b[38;5;241;43m.\u001b[39;49m\u001b[43mQuantumProgram\u001b[49m\u001b[43m)\u001b[49m\n",
      "File \u001b[0;32m/usr/local/lib/python3.10/dist-packages/classiq/_internals/api_wrapper.py:61\u001b[0m, in \u001b[0;36m_parse_job_response\u001b[0;34m(job_result, output_type)\u001b[0m\n\u001b[1;32m     59\u001b[0m     \u001b[38;5;28;01mreturn\u001b[39;00m output_type\u001b[38;5;241m.\u001b[39mmodel_validate(job_result\u001b[38;5;241m.\u001b[39mresult)\n\u001b[1;32m     60\u001b[0m \u001b[38;5;28;01mif\u001b[39;00m job_result\u001b[38;5;241m.\u001b[39mfailure_details:\n\u001b[0;32m---> 61\u001b[0m     \u001b[38;5;28;01mraise\u001b[39;00m ClassiqAPIError(job_result\u001b[38;5;241m.\u001b[39mfailure_details)\n\u001b[1;32m     63\u001b[0m \u001b[38;5;28;01mraise\u001b[39;00m ClassiqAPIError(\u001b[38;5;124m\"\u001b[39m\u001b[38;5;124mUnexpected response from server\u001b[39m\u001b[38;5;124m\"\u001b[39m)\n",
      "\u001b[0;31mClassiqAPIError\u001b[0m: \n\tValidationError: 1 validation error for Arithmetic\n  Value error, The following names are undefined: {'e'} [type=value_error, input_value={'expression': '0.9980475... 'machine_precision': 8}, input_type=dict]\n    For further information visit https://errors.pydantic.dev/2.9/v/value_error\n\t\tat ipynb cell line 9 in function iteration_1_lambda___0_0_expanded___0\n\nError identifier: E11B3AA5E-06B3-4811-B7CF-0F4C626E7D05.\nIf you need further assistance, please reach out on our Community Slack channel at: https://short.classiq.io/join-slack"
     ]
    }
   ],
   "source": [
    "@qfunc\n",
    "def control_logic(a: CArray[int], b: CArray[int], controller: QNum, x: QNum, y: QNum):\n",
    "    repeat(a.len,         \n",
    "            iteration=lambda i: control(controller==i, lambda: inplace_xor(a[i]*x+b[i],y)))\n",
    "\n",
    "@qfunc\n",
    "def control_logic_taylor(acos: CArray[int], ys: CArray[int], xs:CArray[int], controller: QNum, x: QNum, y: QNum):\n",
    "    repeat(acos.len,         \n",
    "            iteration=lambda i: control(controller==i, lambda: inplace_xor(ys[i]+acos[i]*(x-xs[i]),y)))\n",
    "\n",
    "@qfunc\n",
    "def main(ctrl:Output[QNum], x:Output[QNum], y: Output[QNum]):\n",
    "    # init\n",
    "    sections = 8\n",
    "    allocate_num(num_qubits=np.log2(sections),is_signed=False,fraction_digits=0,out=ctrl)\n",
    "    allocate_num(num_qubits=4,is_signed=False,fraction_digits=0,out=x)\n",
    "    allocate_num(num_qubits=4,is_signed=False,fraction_digits=0,out=y)\n",
    "    hadamard_transform(x)\n",
    "    inplace_xor(x / (2**4 / sections), ctrl)\n",
    "\n",
    "    # a = [0.9973978670818215, 0.981833806954362, 0.9509485586521971, 0.9052240761452435, 0.8453738746900736, 0.7723318966629753, 0.6872379377015436, 0.5914198605749554]\n",
    "    # b = [0.0, 0.0019455075159324486, 0.009666819591473669, 0.02681350053158127, 0.05673860125916619, 0.10238983752610264, 0.1662103067471764, 0.25005112423294107]\n",
    "\n",
    "    a = [0.9896158370180917, 0.9280863173987203, 0.8088528856765245, 0.6393288991382495]\n",
    "    b = [0.0, 0.015382379904842869, 0.07499909576594077, 0.20214208566964698]\n",
    "    acos = [0.9980475107000991, 0.9824733131012553, 0.9515679480481722, 0.9058136834259364, 0.8459244992310679, 0.7728349461524715, 0.6876855622205048, 0.5918050750924775]\n",
    "    ys = [0.0624593178423802, 0.18640329676226988, 0.30743851458038085, 0.42367625720393803, 0.5333026735360201, 0.6346070800152693, 0.7260086552607126, 0.806081108260693]\n",
    "    xs = [0.0625, 0.1875, 0.3125, 0.4375, 0.5625, 0.6875, 0.8125, 0.9375]\n",
    "\n",
    "    #\n",
    "    #\n",
    "    #\n",
    "    \n",
    "    #control_logic(a,b,ctrl,x,y)\n",
    "    control_logic_taylor(acos,ys,xs,ctrl,x,y)\n",
    "    \n",
    "\n",
    "def print_parsed_counts(job):\n",
    "    results = job.result()\n",
    "    parsed_counts = results[0].value.parsed_counts\n",
    "    for parsed_state in parsed_counts: print(parsed_state.state)\n",
    "\n",
    "qmod = create_model(main)\n",
    "inbetween_model = set_constraints(qmod, Constraints(optimization_parameter=OptimizationParameter.DEPTH, max_width=25))\n",
    "qprog = synthesize(inbetween_model)\n",
    "# show(qprog)\n",
    "job = execute(qprog)\n",
    "print_parsed_counts(job)\n",
    "\n",
    "quantum_program = QuantumProgram.from_qprog(qprog)\n",
    "print('width (optimized for depth)=',quantum_program.data.width)\n",
    "print('depth (optimized for depth)=',quantum_program.transpiled_circuit.depth)"
   ]
  },
  {
   "cell_type": "code",
   "execution_count": 128,
   "metadata": {},
   "outputs": [],
   "source": [
    "def decimal(K,x):\n",
    "    return x*1/(2**K)"
   ]
  },
  {
   "cell_type": "code",
   "execution_count": 181,
   "metadata": {},
   "outputs": [
    {
     "data": {
      "image/png": "[encoded data removed]",
      "text/plain": [
       "<Figure size 640x480 with 1 Axes>"
      ]
     },
     "metadata": {},
     "output_type": "display_data"
    }
   ],
   "source": [
    "results = job.result()\n",
    "parsed_counts = results[0].value.parsed_counts\n",
    "plt.figure()\n",
    "for parsed_state in parsed_counts: \n",
    "    plt.plot(decimal(4,parsed_state.state['x']),decimal(4,parsed_state.state['y']),'.')"
   ]
  },
  {
   "cell_type": "code",
   "execution_count": 114,
   "metadata": {},
   "outputs": [
    {
     "data": {
      "text/plain": [
       "{'ctrl': 3, 'x': 14, 'y': 9}: 166"
      ]
     },
     "execution_count": 114,
     "metadata": {},
     "output_type": "execute_result"
    }
   ],
   "source": []
  },
  {
   "cell_type": "code",
   "execution_count": null,
   "metadata": {},
   "outputs": [
    {
     "name": "stdout",
     "output_type": "stream",
     "text": [
      "a: [0.9973978670818215, 0.981833806954362, 0.9509485586521971, 0.9052240761452435, 0.8453738746900736, 0.7723318966629753, 0.6872379377015436, 0.5914198605749554]\n",
      "acos: [0.9980475107000991, 0.9824733131012553, 0.9515679480481722, 0.9058136834259364, 0.8459244992310679, 0.7728349461524715, 0.6876855622205048, 0.5918050750924775]\n",
      "b: [0.0, 0.0019455075159324486, 0.009666819591473669, 0.02681350053158127, 0.05673860125916619, 0.10238983752610264, 0.1662103067471764, 0.25005112423294107]\n",
      "ys: [0.0624593178423802, 0.18640329676226988, 0.30743851458038085, 0.42367625720393803, 0.5333026735360201, 0.6346070800152693, 0.7260086552607126, 0.806081108260693]\n",
      "xs: [0.0625, 0.1875, 0.3125, 0.4375, 0.5625, 0.6875, 0.8125, 0.9375]\n"
     ]
    },
    {
     "data": {
      "text/plain": [
       "5"
      ]
     },
     "execution_count": 5,
     "metadata": {},
     "output_type": "execute_result"
    }
   ],
   "source": [
    "sections = 8\n",
    "interval = 0.7\n",
    "dx = interval/sections\n",
    "\n",
    "a = []\n",
    "b = []\n",
    "acos = []\n",
    "ys = []\n",
    "xs = [0.3]\n",
    "for i in range(1, sections):\n",
    "    x1 = 0.3+ dx*i\n",
    "    x2 = 0.3+ dx*(i+1)\n",
    "    middle = (x1+x2)/2\n",
    "    xs +=[x1]\n",
    "    y1=np.sin(x1)\n",
    "    ys+= [np.sin(x1)]\n",
    "    y2=np.sin(x2)\n",
    "\n",
    "    acos += [np.cos(x1)]\n",
    "    a += [(y2-y1)/(x2-x1)]\n",
    "    b += [-(y2-y1)/(x2-x1)*x1+y1]\n",
    "# (y2-y1)/(x2-x1)*(x-x1)+y1\n",
    "\n",
    "print(f\"a: {a}\")\n",
    "print(f\"acos: {acos}\")\n",
    "print(f\"b: {b}\")\n",
    "print(f\"ys: {ys}\")\n",
    "print(f\"xs: {xs}\")\n",
    "5"
   ]
  },
  {
   "cell_type": "code",
   "execution_count": 144,
   "metadata": {},
   "outputs": [
    {
     "data": {
      "image/png": "[encoded data removed]",
      "text/plain": [
       "<Figure size 640x480 with 1 Axes>"
      ]
     },
     "metadata": {},
     "output_type": "display_data"
    }
   ],
   "source": [
    "x=np.linspace(0,1,16)\n",
    "for i in range(sections):\n",
    "    part_of_x = x[4*i:4*i+4]\n",
    "    plt.plot(part_of_x, a[i]*part_of_x+b[i], '.')"
   ]
  },
  {
   "cell_type": "code",
   "execution_count": 177,
   "metadata": {},
   "outputs": [
    {
     "data": {
      "image/png": "[encoded data removed]",
      "text/plain": [
       "<Figure size 640x480 with 1 Axes>"
      ]
     },
     "metadata": {},
     "output_type": "display_data"
    }
   ],
   "source": [
    "x=np.linspace(0,1,16)\n",
    "for i in range(sections):\n",
    "    part_of_x = x[4*i:4*i+4]\n",
    "    plt.plot(part_of_x, a[i]*part_of_x+b[i], '.')\n",
    "    plt.plot(part_of_x, np.sin(part_of_x),'-')"
   ]
  }
 ],
 "metadata": {
  "kernelspec": {
   "display_name": "Python 3",
   "language": "python",
   "name": "python3"
  },
  "language_info": {
   "codemirror_mode": {
    "name": "ipython",
    "version": 3
   },
   "file_extension": ".py",
   "mimetype": "text/x-python",
   "name": "python",
   "nbconvert_exporter": "python",
   "pygments_lexer": "ipython3",
   "version": "3.10.12"
  }
 },
 "nbformat": 4,
 "nbformat_minor": 5
}
